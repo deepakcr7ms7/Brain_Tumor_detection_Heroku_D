{
 "cells": [
  {
   "cell_type": "code",
   "execution_count": null,
   "metadata": {
    "_cell_guid": "b1076dfc-b9ad-4769-8c92-a6c4dae69d19",
    "_uuid": "8f2839f25d086af736a60e9eeb907d3b93b6e0e5",
    "executionInfo": {
     "elapsed": 8045,
     "status": "ok",
     "timestamp": 1618814132432,
     "user": {
      "displayName": "Abhishek Sharma",
      "photoUrl": "https://lh3.googleusercontent.com/a-/AOh14GiRKfpd_A0MUIPBHRzyZRyDVtlOCQyVXLETmIQVSA=s64",
      "userId": "15158990279670167313"
     },
     "user_tz": -330
    },
    "id": "Jh_jxhdE-8rm",
    "pycharm": {
     "is_executing": true
    }
   },
   "outputs": [],
   "source": [
    "import numpy as np \n",
    "import cv2\n",
    "import os\n",
    "import shutil\n",
    "import itertools\n",
    "from sklearn.utils import shuffle\n",
    "import imutils\n",
    "import matplotlib.pyplot as plt\n",
    "from sklearn.preprocessing import LabelBinarizer\n",
    "from sklearn.model_selection import train_test_split\n",
    "from sklearn.metrics import accuracy_score, confusion_matrix\n",
    "\n",
    "import plotly.graph_objs as go\n",
    "from plotly.offline import init_notebook_mode, iplot\n",
    "from plotly import tools\n",
    "\n",
    "from tensorflow.keras.preprocessing.image import ImageDataGenerator\n",
    "from tensorflow.keras.applications.vgg16 import VGG16, preprocess_input\n",
    "from tensorflow.keras import layers\n",
    "from tensorflow.keras.models import Model, Sequential, load_model\n",
    "from tensorflow.keras.optimizers import Adam, RMSprop\n",
    "from tensorflow.keras.callbacks import EarlyStopping\n",
    "import pickle"
   ]
  },
  {
   "cell_type": "markdown",
   "metadata": {
    "id": "9L2oQ2Ea-8rn"
   },
   "source": [
    "Right now all images are in one folder with `yes` and `no` subfolders. I will split the data into `train`, `val` and `test` folders which makes its easier to work for me. The new folder heirarchy will look as follows:"
   ]
  },
  {
   "cell_type": "code",
   "execution_count": null,
   "metadata": {
    "id": "QrYgC0ho-8ro",
    "pycharm": {
     "is_executing": true
    }
   },
   "outputs": [],
   "source": [
    "IMG_PATH = 'brain_tumor_dataset/'\n",
    "\n",
    "# split the data by train/val/test\n",
    "for CLASS in os.listdir(IMG_PATH):\n",
    "      IMG_NUM = len(os.listdir(IMG_PATH + CLASS))\n",
    "      for (n, FILE_NAME) in enumerate(os.listdir(IMG_PATH + CLASS)):\n",
    "          img = IMG_PATH + CLASS + '/' + FILE_NAME\n",
    "          if n < 5:\n",
    "              shutil.copy(img, 'TEST/' + CLASS.upper() + '/' + FILE_NAME)\n",
    "          elif n < 0.8*IMG_NUM:\n",
    "              shutil.copy(img, 'TRAIN/'+ CLASS.upper() + '/' + FILE_NAME)\n",
    "          else:\n",
    "              shutil.copy(img, 'VAL/'+ CLASS.upper() + '/' + FILE_NAME)"
   ]
  },
  {
   "cell_type": "markdown",
   "metadata": {
    "id": "ZOW61DF9-8rp"
   },
   "source": [
    "# <a id='import'>3. Data Import and Preprocessing</a>"
   ]
  },
  {
   "cell_type": "code",
   "execution_count": null,
   "metadata": {
    "_cell_guid": "79c7e3d0-c299-4dcb-8224-4455121ee9b0",
    "_kg_hide-input": true,
    "_uuid": "d629ff2d2480ee46fbb7e2d37f6b5fab8052498a",
    "id": "oVtlhh16-8rp",
    "pycharm": {
     "is_executing": true
    }
   },
   "outputs": [],
   "source": [
    "def load_data(dir_path, img_size=(100,100)):\n",
    "    \"\"\"\n",
    "    Load resized images as np.arrays to workspace\n",
    "    \"\"\"\n",
    "    X = []\n",
    "    y = []\n",
    "    for yesorno in (sorted(os.listdir(dir_path))):\n",
    "        for imgname in os.listdir(dir_path + yesorno):\n",
    "            img = cv2.imread(dir_path + yesorno + '/' + imgname)\n",
    "            X.append(img)\n",
    "            if yesorno=='NO':\n",
    "              y.append(0)\n",
    "            else:\n",
    "              y.append(1)\n",
    "    X = np.array(X)\n",
    "    y = np.array(y)\n",
    "    print(f'{len(X)} images loaded from {dir_path} directory.')\n",
    "    return X, y\n",
    "\n",
    "\n",
    "\n",
    "def plot_confusion_matrix(cm, classes,\n",
    "                          normalize=False,\n",
    "                          title='Confusion matrix',\n",
    "                          cmap=plt.cm.Blues):\n",
    "    \"\"\"\n",
    "    This function prints and plots the confusion matrix.\n",
    "    Normalization can be applied by setting `normalize=True`.\n",
    "    \"\"\"\n",
    "    plt.figure(figsize = (6,6))\n",
    "    plt.imshow(cm, interpolation='nearest', cmap=cmap)\n",
    "    plt.title(title)\n",
    "    plt.colorbar()\n",
    "    tick_marks = np.arange(len(classes))\n",
    "    plt.xticks(tick_marks, classes, rotation=90)\n",
    "    plt.yticks(tick_marks, classes)\n",
    "    if normalize:\n",
    "        cm = cm.astype('float') / cm.sum(axis=1)[:, np.newaxis]\n",
    "\n",
    "    thresh = cm.max() / 2.\n",
    "    cm = np.round(cm,2)\n",
    "    for i, j in itertools.product(range(cm.shape[0]), range(cm.shape[1])):\n",
    "        plt.text(j, i, cm[i, j],horizontalalignment=\"center\",color=\"white\" if cm[i, j] > thresh else \"black\")\n",
    "\n",
    "    plt.tight_layout()\n",
    "    plt.ylabel('True label')\n",
    "    plt.xlabel('Predicted label')\n",
    "    plt.show()"
   ]
  },
  {
   "cell_type": "code",
   "execution_count": null,
   "metadata": {
    "colab": {
     "base_uri": "https://localhost:8080/"
    },
    "executionInfo": {
     "elapsed": 1936,
     "status": "ok",
     "timestamp": 1618467885002,
     "user": {
      "displayName": "Abhishek Sharma",
      "photoUrl": "https://lh3.googleusercontent.com/a-/AOh14GiRKfpd_A0MUIPBHRzyZRyDVtlOCQyVXLETmIQVSA=s64",
      "userId": "15158990279670167313"
     },
     "user_tz": -330
    },
    "id": "qw12sRaK-8rq",
    "outputId": "a9b1be38-eacc-49f7-f415-da1f7317cd81",
    "pycharm": {
     "is_executing": true
    }
   },
   "outputs": [],
   "source": [
    "TRAIN_DIR = 'TRAIN/'\n",
    "TEST_DIR = 'TEST/'\n",
    "VAL_DIR = 'VAL/'\n",
    "IMG_SIZE = (224,224)\n",
    "\n",
    "# use predefined function to load the image data into workspace\n",
    "X_train, y_train = load_data(TRAIN_DIR, IMG_SIZE)\n",
    "X_test, y_test = load_data(TEST_DIR, IMG_SIZE)\n",
    "X_val, y_val = load_data(VAL_DIR, IMG_SIZE)"
   ]
  },
  {
   "cell_type": "code",
   "execution_count": null,
   "metadata": {
    "colab": {
     "base_uri": "https://localhost:8080/"
    },
    "executionInfo": {
     "elapsed": 1132,
     "status": "ok",
     "timestamp": 1618467904033,
     "user": {
      "displayName": "Abhishek Sharma",
      "photoUrl": "https://lh3.googleusercontent.com/a-/AOh14GiRKfpd_A0MUIPBHRzyZRyDVtlOCQyVXLETmIQVSA=s64",
      "userId": "15158990279670167313"
     },
     "user_tz": -330
    },
    "id": "T9vi8jnWHPOw",
    "outputId": "031894b1-f2c2-4631-8fd5-b55d350eeec4",
    "pycharm": {
     "is_executing": true
    }
   },
   "outputs": [],
   "source": [
    "y_val"
   ]
  },
  {
   "cell_type": "markdown",
   "metadata": {
    "id": "8PguxdXB-8rr"
   },
   "source": [
    "Let's take a look at the distribution of classes among sets:"
   ]
  },
  {
   "cell_type": "markdown",
   "metadata": {
    "id": "r-FxIe9p-8rs"
   },
   "source": [
    "As you can see, images have different `width` and `height` and diffent size of \"black corners\". Since the image size for VGG-16 imput layer is `(224,224)` some wide images may look weird after resizing. Histogram of ratio distributions (`ratio = width/height`):"
   ]
  },
  {
   "cell_type": "code",
   "execution_count": null,
   "metadata": {
    "_kg_hide-input": true,
    "colab": {
     "base_uri": "https://localhost:8080/",
     "height": 295
    },
    "executionInfo": {
     "elapsed": 4023,
     "status": "ok",
     "timestamp": 1618467981028,
     "user": {
      "displayName": "Abhishek Sharma",
      "photoUrl": "https://lh3.googleusercontent.com/a-/AOh14GiRKfpd_A0MUIPBHRzyZRyDVtlOCQyVXLETmIQVSA=s64",
      "userId": "15158990279670167313"
     },
     "user_tz": -330
    },
    "id": "7kJXHu0p-8rs",
    "outputId": "e1998212-ad3f-4187-f922-903013eefb68",
    "pycharm": {
     "is_executing": true
    }
   },
   "outputs": [],
   "source": [
    "RATIO_LIST = []\n",
    "for set in (X_train, X_test, X_val):\n",
    "    for img in set:\n",
    "        RATIO_LIST.append(img.shape[1]/img.shape[0])\n",
    "        \n",
    "plt.hist(RATIO_LIST)\n",
    "plt.title('Distribution of Image Ratios')\n",
    "plt.xlabel('Ratio Value')\n",
    "plt.ylabel('Count')\n",
    "plt.show()"
   ]
  },
  {
   "cell_type": "markdown",
   "metadata": {
    "id": "GK0qoIay-8rt"
   },
   "source": [
    "The first step of \"normalization\" would be to crop the brain out of the images. I used technique which was perfectly described in [pyimagesearch](https://www.pyimagesearch.com/2016/04/11/finding-extreme-points-in-contours-with-opencv/) blog and I highly suggest to looks deeper into it."
   ]
  },
  {
   "cell_type": "code",
   "execution_count": null,
   "metadata": {
    "_kg_hide-input": true,
    "id": "WU45Y7u2-8rt",
    "pycharm": {
     "is_executing": true
    }
   },
   "outputs": [],
   "source": [
    "def crop_imgs(set_name, add_pixels_value=0):\n",
    "    \"\"\"\n",
    "    Finds the extreme points on the image and crops the rectangular out of them\n",
    "    \"\"\"\n",
    "    set_new = []\n",
    "    for img in set_name:\n",
    "        gray = cv2.cvtColor(img, cv2.COLOR_RGB2GRAY)\n",
    "        gray = cv2.GaussianBlur(gray, (5, 5), 0)\n",
    "\n",
    "        # threshold the image, then perform a series of erosions +\n",
    "        # dilations to remove any small regions of noise\n",
    "        thresh = cv2.threshold(gray, 45, 255, cv2.THRESH_BINARY)[1]\n",
    "        thresh = cv2.erode(thresh, None, iterations=2)\n",
    "        thresh = cv2.dilate(thresh, None, iterations=2)\n",
    "\n",
    "        # find contours in thresholded image, then grab the largest one\n",
    "        cnts = cv2.findContours(thresh.copy(), cv2.RETR_EXTERNAL, cv2.CHAIN_APPROX_SIMPLE)\n",
    "        cnts = imutils.grab_contours(cnts)\n",
    "        c = max(cnts, key=cv2.contourArea)\n",
    "\n",
    "        # find the extreme points\n",
    "        extLeft = tuple(c[c[:, :, 0].argmin()][0])\n",
    "        extRight = tuple(c[c[:, :, 0].argmax()][0])\n",
    "        extTop = tuple(c[c[:, :, 1].argmin()][0])\n",
    "        extBot = tuple(c[c[:, :, 1].argmax()][0])\n",
    "\n",
    "        ADD_PIXELS = add_pixels_value\n",
    "        new_img = img[extTop[1]-ADD_PIXELS:extBot[1]+ADD_PIXELS, extLeft[0]-ADD_PIXELS:extRight[0]+ADD_PIXELS].copy()\n",
    "        set_new.append(new_img)\n",
    "\n",
    "    return np.array(set_new)"
   ]
  },
  {
   "cell_type": "markdown",
   "metadata": {
    "id": "23S9o2U0-8ru"
   },
   "source": [
    "Let's look at example what this function will do with MRI scans:"
   ]
  },
  {
   "cell_type": "code",
   "execution_count": null,
   "metadata": {
    "_kg_hide-input": true,
    "id": "i9Khrdus-8ru",
    "pycharm": {
     "is_executing": true
    }
   },
   "outputs": [],
   "source": [
    "img = cv2.imread('brain_tumor_dataset/yes/Y108.jpg')\n",
    "img = cv2.resize(\n",
    "            img,\n",
    "            dsize=IMG_SIZE,\n",
    "            interpolation=cv2.INTER_CUBIC\n",
    "        )\n",
    "gray = cv2.cvtColor(img, cv2.COLOR_RGB2GRAY)\n",
    "gray = cv2.GaussianBlur(gray, (5, 5), 0)\n",
    "\n",
    "# threshold the image, then perform a series of erosions +\n",
    "# dilations to remove any small regions of noise\n",
    "thresh = cv2.threshold(gray, 45, 255, cv2.THRESH_BINARY)[1]\n",
    "thresh = cv2.erode(thresh, None, iterations=2)\n",
    "thresh = cv2.dilate(thresh, None, iterations=2)\n",
    "\n",
    "# find contours in thresholded image, then grab the largest one\n",
    "cnts = cv2.findContours(thresh.copy(), cv2.RETR_EXTERNAL, cv2.CHAIN_APPROX_SIMPLE)\n",
    "cnts = imutils.grab_contours(cnts)\n",
    "c = max(cnts, key=cv2.contourArea)\n",
    "\n",
    "# find the extreme points\n",
    "extLeft = tuple(c[c[:, :, 0].argmin()][0])\n",
    "extRight = tuple(c[c[:, :, 0].argmax()][0])\n",
    "extTop = tuple(c[c[:, :, 1].argmin()][0])\n",
    "extBot = tuple(c[c[:, :, 1].argmax()][0])\n",
    "\n",
    "# add contour on the image\n",
    "img_cnt = cv2.drawContours(img.copy(), [c], -1, (0, 255, 255), 4)\n",
    "\n",
    "# add extreme points\n",
    "img_pnt = cv2.circle(img_cnt.copy(), extLeft, 8, (0, 0, 255), -1)\n",
    "img_pnt = cv2.circle(img_pnt, extRight, 8, (0, 255, 0), -1)\n",
    "img_pnt = cv2.circle(img_pnt, extTop, 8, (255, 0, 0), -1)\n",
    "img_pnt = cv2.circle(img_pnt, extBot, 8, (255, 255, 0), -1)\n",
    "\n",
    "# crop\n",
    "ADD_PIXELS = 0\n",
    "new_img = img[extTop[1]-ADD_PIXELS:extBot[1]+ADD_PIXELS, extLeft[0]-ADD_PIXELS:extRight[0]+ADD_PIXELS].copy()"
   ]
  },
  {
   "cell_type": "code",
   "execution_count": null,
   "metadata": {
    "_kg_hide-input": true,
    "colab": {
     "base_uri": "https://localhost:8080/",
     "height": 260
    },
    "executionInfo": {
     "elapsed": 4177,
     "status": "ok",
     "timestamp": 1618468040984,
     "user": {
      "displayName": "Abhishek Sharma",
      "photoUrl": "https://lh3.googleusercontent.com/a-/AOh14GiRKfpd_A0MUIPBHRzyZRyDVtlOCQyVXLETmIQVSA=s64",
      "userId": "15158990279670167313"
     },
     "user_tz": -330
    },
    "id": "4zqLRhz8-8rv",
    "outputId": "02c422da-ebc0-475f-ed82-32d6397aeb19",
    "pycharm": {
     "is_executing": true
    }
   },
   "outputs": [],
   "source": [
    "plt.figure(figsize=(15,6))\n",
    "plt.subplot(141)\n",
    "plt.imshow(img)\n",
    "plt.xticks([])\n",
    "plt.yticks([])\n",
    "plt.title('Step 1. Get the original image')\n",
    "plt.subplot(142)\n",
    "plt.imshow(img_cnt)\n",
    "plt.xticks([])\n",
    "plt.yticks([])\n",
    "plt.title('Step 2. Find the biggest contour')\n",
    "plt.subplot(143)\n",
    "plt.imshow(img_pnt)\n",
    "plt.xticks([])\n",
    "plt.yticks([])\n",
    "plt.title('Step 3. Find the extreme points')\n",
    "plt.subplot(144)\n",
    "plt.imshow(new_img)\n",
    "plt.xticks([])\n",
    "plt.yticks([])\n",
    "plt.title('Step 4. Crop the image')\n",
    "plt.show()"
   ]
  },
  {
   "cell_type": "code",
   "execution_count": null,
   "metadata": {
    "colab": {
     "base_uri": "https://localhost:8080/"
    },
    "executionInfo": {
     "elapsed": 2206,
     "status": "ok",
     "timestamp": 1618468054728,
     "user": {
      "displayName": "Abhishek Sharma",
      "photoUrl": "https://lh3.googleusercontent.com/a-/AOh14GiRKfpd_A0MUIPBHRzyZRyDVtlOCQyVXLETmIQVSA=s64",
      "userId": "15158990279670167313"
     },
     "user_tz": -330
    },
    "id": "yfsDBeIS-8rv",
    "outputId": "7298b3c4-caa7-471c-ef5c-c59d06cb74da",
    "pycharm": {
     "is_executing": true
    }
   },
   "outputs": [],
   "source": [
    "# apply this for each set\n",
    "X_train_crop = crop_imgs(set_name=X_train)\n",
    "X_val_crop = crop_imgs(set_name=X_val)\n",
    "X_test_crop = crop_imgs(set_name=X_test)"
   ]
  },
  {
   "cell_type": "code",
   "execution_count": null,
   "metadata": {
    "colab": {
     "base_uri": "https://localhost:8080/",
     "height": 263
    },
    "executionInfo": {
     "elapsed": 1694,
     "status": "ok",
     "timestamp": 1618468165151,
     "user": {
      "displayName": "Abhishek Sharma",
      "photoUrl": "https://lh3.googleusercontent.com/a-/AOh14GiRKfpd_A0MUIPBHRzyZRyDVtlOCQyVXLETmIQVSA=s64",
      "userId": "15158990279670167313"
     },
     "user_tz": -330
    },
    "id": "nu-WMbnJNqWk",
    "outputId": "1c7952f8-96c0-403f-8a75-d6d472134930",
    "pycharm": {
     "is_executing": true
    }
   },
   "outputs": [],
   "source": [
    "i = 100\n",
    "\n",
    "plt.subplot(121)\n",
    "plt.imshow(X_train[i])\n",
    "\n",
    "plt.subplot(122)\n",
    "plt.imshow(X_train_crop[i])"
   ]
  },
  {
   "cell_type": "code",
   "execution_count": null,
   "metadata": {
    "_kg_hide-input": true,
    "id": "tVnIUADt-8rw",
    "pycharm": {
     "is_executing": true
    }
   },
   "outputs": [],
   "source": [
    "def save_new_images(x_set, y_set, folder_name):\n",
    "    i = 0\n",
    "    for (img, imclass) in zip(x_set, y_set):\n",
    "        if imclass == 0:\n",
    "            cv2.imwrite(folder_name+'NO/'+str(i)+'.jpg', img)\n",
    "        else:\n",
    "            cv2.imwrite(folder_name+'YES/'+str(i)+'.jpg', img)\n",
    "        i += 1"
   ]
  },
  {
   "cell_type": "code",
   "execution_count": null,
   "metadata": {
    "id": "vFxmfZwD-8rw",
    "pycharm": {
     "is_executing": true
    }
   },
   "outputs": [],
   "source": [
    "# saving new images to the folder\n",
    "\n",
    "save_new_images(X_train_crop, y_train, folder_name='TRAIN_CROP/')\n",
    "save_new_images(X_val_crop, y_val, folder_name='VAL_CROP/')\n",
    "save_new_images(X_test_crop, y_test, folder_name='TEST_CROP/')"
   ]
  },
  {
   "cell_type": "code",
   "execution_count": null,
   "metadata": {
    "colab": {
     "base_uri": "https://localhost:8080/"
    },
    "executionInfo": {
     "elapsed": 1035,
     "status": "ok",
     "timestamp": 1618468280854,
     "user": {
      "displayName": "Abhishek Sharma",
      "photoUrl": "https://lh3.googleusercontent.com/a-/AOh14GiRKfpd_A0MUIPBHRzyZRyDVtlOCQyVXLETmIQVSA=s64",
      "userId": "15158990279670167313"
     },
     "user_tz": -330
    },
    "id": "L5fiUHNKWsNQ",
    "outputId": "457da744-eac1-4c9d-caa3-70a69259aa9a",
    "pycharm": {
     "is_executing": true
    }
   },
   "outputs": [],
   "source": [
    "print(len(os.listdir('TEST_CROP/YES')))\n",
    "print(len(os.listdir('TEST_CROP/NO')))\n",
    "print(len(os.listdir('TRAIN_CROP/YES')))\n",
    "print(len(os.listdir('TRAIN_CROP/NO')))\n",
    "print(len(os.listdir('VAL_CROP/YES')))\n",
    "print(len(os.listdir('VAL_CROP/NO')))"
   ]
  },
  {
   "cell_type": "markdown",
   "metadata": {
    "id": "kFiXwwnN-8rw"
   },
   "source": [
    "The next step would be resizing images to `(224,224)` and applying preprocessing needed for VGG-16 model input."
   ]
  },
  {
   "cell_type": "code",
   "execution_count": null,
   "metadata": {
    "_kg_hide-input": true,
    "id": "I8tIVmEO-8rx",
    "pycharm": {
     "is_executing": true
    }
   },
   "outputs": [],
   "source": [
    "def preprocess_imgs(set_name, img_size):\n",
    "    \"\"\"\n",
    "    Resize and apply VGG-15 preprocessing\n",
    "    \"\"\"\n",
    "    set_new = []\n",
    "    for img in set_name:\n",
    "        img = cv2.resize(img,dsize=img_size,interpolation=cv2.INTER_CUBIC)\n",
    "        set_new.append(preprocess_input(img))\n",
    "    return np.array(set_new)"
   ]
  },
  {
   "cell_type": "code",
   "execution_count": null,
   "metadata": {
    "id": "HrTWiuY0-8rx",
    "pycharm": {
     "is_executing": true
    }
   },
   "outputs": [],
   "source": [
    "\n",
    "\n",
    "X_train_prep = preprocess_imgs(set_name=X_train_crop, img_size=IMG_SIZE)\n",
    "X_test_prep = preprocess_imgs(set_name=X_test_crop, img_size=IMG_SIZE)\n",
    "X_val_prep = preprocess_imgs(set_name=X_val_crop, img_size=IMG_SIZE)\n",
    "\n",
    "\n",
    "X_train_prep,y_train = shuffle(X_train_prep,y_train,random_state=0)\n",
    "X_test_prep,y_test = shuffle(X_test_prep,y_test,random_state=0)\n",
    "X_val_prep,y_val = shuffle(X_val_prep,y_val,random_state=0)"
   ]
  },
  {
   "cell_type": "code",
   "execution_count": null,
   "metadata": {
    "colab": {
     "base_uri": "https://localhost:8080/"
    },
    "executionInfo": {
     "elapsed": 1515,
     "status": "ok",
     "timestamp": 1618468696321,
     "user": {
      "displayName": "Abhishek Sharma",
      "photoUrl": "https://lh3.googleusercontent.com/a-/AOh14GiRKfpd_A0MUIPBHRzyZRyDVtlOCQyVXLETmIQVSA=s64",
      "userId": "15158990279670167313"
     },
     "user_tz": -330
    },
    "id": "CnuaU8_UQC7s",
    "outputId": "866306a4-66d4-40bd-b0c8-ae908b8cca49",
    "pycharm": {
     "is_executing": true
    }
   },
   "outputs": [],
   "source": [
    "y_train"
   ]
  },
  {
   "cell_type": "code",
   "execution_count": null,
   "metadata": {
    "id": "B6yfgjxS-8ry",
    "pycharm": {
     "is_executing": true
    }
   },
   "outputs": [],
   "source": [
    "# set the paramters we want to change randomly\n",
    "demo_datagen = ImageDataGenerator(\n",
    "    rotation_range=15,\n",
    "    width_shift_range=0.05,\n",
    "    height_shift_range=0.05,\n",
    "    rescale=1./255,\n",
    "    shear_range=0.05,\n",
    "    brightness_range=[0.1, 1.5],\n",
    "    horizontal_flip=True,\n",
    "    vertical_flip=True\n",
    ")"
   ]
  },
  {
   "cell_type": "code",
   "execution_count": null,
   "metadata": {
    "_kg_hide-input": true,
    "id": "lspCXYcB-8ry",
    "pycharm": {
     "is_executing": true
    }
   },
   "outputs": [],
   "source": [
    "x = X_train_crop[0]  \n",
    "x = x.reshape((1,) + x.shape) \n",
    "\n",
    "i = 0\n",
    "for batch in demo_datagen.flow(x, batch_size=1, save_to_dir='preview', save_prefix='aug_img', save_format='jpg'):\n",
    "    i += 1\n",
    "    if i > 20:\n",
    "        break "
   ]
  },
  {
   "cell_type": "code",
   "execution_count": null,
   "metadata": {
    "_kg_hide-input": true,
    "colab": {
     "base_uri": "https://localhost:8080/",
     "height": 655
    },
    "executionInfo": {
     "elapsed": 3369,
     "status": "ok",
     "timestamp": 1618468341963,
     "user": {
      "displayName": "Abhishek Sharma",
      "photoUrl": "https://lh3.googleusercontent.com/a-/AOh14GiRKfpd_A0MUIPBHRzyZRyDVtlOCQyVXLETmIQVSA=s64",
      "userId": "15158990279670167313"
     },
     "user_tz": -330
    },
    "id": "eOAq6UtO-8ry",
    "outputId": "b1562e32-8405-42b6-da81-2f9d30db5adf",
    "pycharm": {
     "is_executing": true
    }
   },
   "outputs": [],
   "source": [
    "plt.imshow(X_train_crop[0])\n",
    "plt.xticks([])\n",
    "plt.yticks([])\n",
    "plt.title('Original Image')\n",
    "plt.show()\n",
    "\n",
    "plt.figure(figsize=(15,6))\n",
    "i = 1\n",
    "for img in os.listdir('preview/'):\n",
    "    img = cv2.imread('preview/' + img)\n",
    "    img = cv2.cvtColor(img, cv2.COLOR_BGR2RGB)\n",
    "    plt.subplot(3,7,i)\n",
    "    plt.imshow(img)\n",
    "    plt.xticks([])\n",
    "    plt.yticks([])\n",
    "    i += 1\n",
    "    if i > 3*7:\n",
    "        break\n",
    "plt.suptitle('Augemented Images')\n",
    "plt.show()"
   ]
  },
  {
   "cell_type": "code",
   "execution_count": null,
   "metadata": {
    "colab": {
     "base_uri": "https://localhost:8080/"
    },
    "executionInfo": {
     "elapsed": 1712,
     "status": "ok",
     "timestamp": 1618468713032,
     "user": {
      "displayName": "Abhishek Sharma",
      "photoUrl": "https://lh3.googleusercontent.com/a-/AOh14GiRKfpd_A0MUIPBHRzyZRyDVtlOCQyVXLETmIQVSA=s64",
      "userId": "15158990279670167313"
     },
     "user_tz": -330
    },
    "id": "GXFfKDZX-8rz",
    "outputId": "886bbe18-1241-43f8-d1dd-f7a1a56d0e44",
    "pycharm": {
     "is_executing": true
    }
   },
   "outputs": [],
   "source": [
    "TRAIN_DIR = 'TRAIN_CROP/'\n",
    "VAL_DIR = 'VAL_CROP/'\n",
    "\n",
    "train_datagen = ImageDataGenerator(\n",
    "    rotation_range=15,\n",
    "    width_shift_range=0.1,\n",
    "    height_shift_range=0.1,\n",
    "    shear_range=0.1,\n",
    "    brightness_range=[0.5, 1.5],\n",
    "    horizontal_flip=True,\n",
    "    vertical_flip=True,\n",
    "    preprocessing_function=preprocess_input\n",
    ")\n",
    "\n",
    "test_datagen = ImageDataGenerator(\n",
    "    preprocessing_function=preprocess_input\n",
    ")\n",
    "\n",
    "\n",
    "train_generator = train_datagen.flow_from_directory(\n",
    "    TRAIN_DIR,\n",
    "    color_mode='rgb',\n",
    "    target_size=IMG_SIZE,\n",
    "    batch_size=1,\n",
    "    class_mode='binary'\n",
    ")\n",
    "\n",
    "\n",
    "validation_generator = test_datagen.flow_from_directory(\n",
    "    VAL_DIR,\n",
    "    color_mode='rgb',\n",
    "    target_size=IMG_SIZE,\n",
    "    batch_size=1,\n",
    "    class_mode='binary',\n",
    ")"
   ]
  },
  {
   "cell_type": "code",
   "execution_count": null,
   "metadata": {
    "colab": {
     "base_uri": "https://localhost:8080/"
    },
    "executionInfo": {
     "elapsed": 1565,
     "status": "ok",
     "timestamp": 1618468717395,
     "user": {
      "displayName": "Abhishek Sharma",
      "photoUrl": "https://lh3.googleusercontent.com/a-/AOh14GiRKfpd_A0MUIPBHRzyZRyDVtlOCQyVXLETmIQVSA=s64",
      "userId": "15158990279670167313"
     },
     "user_tz": -330
    },
    "id": "m4FTuFO5b4i8",
    "outputId": "6b3d503a-ea4d-470b-9fd6-66de221c0d0a",
    "pycharm": {
     "is_executing": true
    }
   },
   "outputs": [],
   "source": [
    "train_generator.samples"
   ]
  },
  {
   "cell_type": "markdown",
   "metadata": {
    "id": "b8OULqmp-8r0"
   },
   "source": [
    "## <a id='build'>4.2. Model Building</a>"
   ]
  },
  {
   "cell_type": "code",
   "execution_count": null,
   "metadata": {
    "id": "cupb5ke2-8r0",
    "pycharm": {
     "is_executing": true
    }
   },
   "outputs": [],
   "source": [
    "# load base model\n",
    "vgg16_weight_path = 'vgg16_weights_tf_dim_ordering_tf_kernels_notop.h5'\n",
    "base_model = VGG16(\n",
    "    weights=vgg16_weight_path,\n",
    "    include_top=False, \n",
    "    input_shape=IMG_SIZE + (3,)\n",
    ")"
   ]
  },
  {
   "cell_type": "code",
   "execution_count": null,
   "metadata": {
    "colab": {
     "base_uri": "https://localhost:8080/"
    },
    "executionInfo": {
     "elapsed": 1251,
     "status": "ok",
     "timestamp": 1618468778346,
     "user": {
      "displayName": "Abhishek Sharma",
      "photoUrl": "https://lh3.googleusercontent.com/a-/AOh14GiRKfpd_A0MUIPBHRzyZRyDVtlOCQyVXLETmIQVSA=s64",
      "userId": "15158990279670167313"
     },
     "user_tz": -330
    },
    "id": "WPKJe5Vh-8r0",
    "outputId": "0fa7bd33-75af-4e93-fb35-f2a7f565c3a4",
    "pycharm": {
     "is_executing": true
    }
   },
   "outputs": [],
   "source": [
    "model = Sequential()\n",
    "model.add(base_model)\n",
    "model.add(layers.Flatten())\n",
    "model.add(layers.Dropout(0.5))\n",
    "model.add(layers.Dense(1, activation='sigmoid'))\n",
    "\n",
    "model.layers[0].trainable = False\n",
    "\n",
    "model.compile(\n",
    "    loss='binary_crossentropy',\n",
    "    optimizer=RMSprop(lr=1e-4),\n",
    "    metrics=['accuracy']\n",
    ")\n",
    "\n",
    "model.summary()"
   ]
  },
  {
   "cell_type": "code",
   "execution_count": 25,
   "metadata": {
    "_kg_hide-output": true,
    "colab": {
     "base_uri": "https://localhost:8080/"
    },
    "executionInfo": {
     "elapsed": 139960,
     "status": "ok",
     "timestamp": 1618468948925,
     "user": {
      "displayName": "Abhishek Sharma",
      "photoUrl": "https://lh3.googleusercontent.com/a-/AOh14GiRKfpd_A0MUIPBHRzyZRyDVtlOCQyVXLETmIQVSA=s64",
      "userId": "15158990279670167313"
     },
     "user_tz": -330
    },
    "id": "jliW5FQt-8r0",
    "outputId": "180551f1-492b-4d35-f3c1-9f5d60012ecd"
   },
   "outputs": [
    {
     "name": "stdout",
     "output_type": "stream",
     "text": [
      " 18/193 [=>............................] - ETA: 34s - loss: 2.8337 - accuracy: 0.6667\b\b\b\b\b\b\b\b\b\b\b\b\b\b\b\b\b\b\b\b\b\b\b\b\b\b\b\b\b\b\b\b\b\b\b\b\b\b\b\b\b\b\b\b\b\b\b\b\b\b\b\b\b\b\b\b\b\b\b\b\b\b\b\b\b\b\b\b\b\b\b\b\b\b\b\b\b\b\b\b\b\b\b\b\b\b\b\b\b\b\b\b\b\b\b\b\b\b\b\b\b\b\b\b\b\b\b\b\b\b\b\b\b\b\b\b\b\b\b\b\b\b\b\b\b\b\b\b\b\b\b\b\b\b\b\b\b\b\b\b\b\b\b\b\b\b\b\b\b\b\b\b\b\b\b\b\b\b\b\b\b\b\b\b\b\b\b\b\b\b\b\b\b\b\b\b\b\b\b\b\b\b\b\b\b\b\b\b\b\b\b\b\b\b\b\b\b\b\b\b\b\b\b\b\b\b\b\b\b\b\b\b\b\b\b\b\b\b\b\b\b\b\b\b\b\b\b\b\b\b\b\b\b\b\b\b\b\b\b\b\b\b\b\b\b\b\b\b\b\b\b\b\b\b\b\b\b\b\b\b\b\b\b\b\b\b\b\b\b\b\b\b\b\b\b\b\b\b\b\b\b\b\b\b\b\b\b\b\b\b\b\b\b\b\b\b\b\b\b\b\b\b\b\b\b\b\b\b\b\b\b\b\b\b\b\b\b\b\b\b\b\b\b\b\b\b\b\b\b\b\b\b\b\b\b\b\b\b\b\b\b\b\b\b\b\b\b\b\b\b\b\b\b\b\b\b\b\b\b\b\b\b\b\b\b\b\b\b\b\b\b\b\b\b\b\b\b\b\b\b\b\b\b\b\b\b\b\b\b\b\b\b\b\b\b\b\b\b\b\b\b\b\b\b\b\b\b\b\b\b\b\b\b\b\b\b\b\b\b\b\b\b\b\b\b\b\b\b\b\b\b\b\b\b\b\b\b\b\b\b\b\b\b\b\b\b\b\b\b\b\b\b\b\b\b\b\b\b\b\b\b\b\b\b\b\b\b\b\b\b\b\b\b\b\b\b\b\b\b\b\b\b\b\b\b\b\b\b\b\b\b\b\b\b\b\b\b\b\b\b\b\b\b\b\b\b\b\b\b\b\b\b\b\b\b\b\b\b\b\b\b\b\b\b\b\b\b\b\b\b\b\b\b\b\b\b\b\b\b\b\b\b\b\b\b\b\b\b\b\b\b\b\b\b\b\b\b\b\b\b\b\b\b\b\b\b\b\b\b\b\b\b\b\b\b\b\b\b\b\b\b\b\b\b\b\b\b\b\b\b\b\b\b\b\b\b\b\b\b\b\b\b\b\b\b\b\b\b\b\b\b\b\b\b\b\b\b\b\b\b\b\b\b\b\b\b\b\b\b\b\b\b\b\b\b\b\b\b\b\b\b\b\b\b\b\b\b\b\b\b\b\b\b\b\b\b\b\b\b\b\b\b\b\b\b\b\b\b\b\b\b\b\b\b\b\b\b\b\b\b\b\b\b\b\b\b\b\b\b\b\b\b\b\b\b\b\b\b\b\b\b\b\b\b\b\b\b\b\b\b\b\b\b\b\b\b\b\b\b\b\b\b\b\b\b\b\b\b\b\b\b\b\b\b\b\b\b\b\b\b\b\b\b\b\b\b\b\b\b\b\b\b\b\b\b\b\b\b\b\b\b\b\b\b\b\b\b\b\b\b\b\b\b\b\b\b\b\b\b\b\b\b\b\b\b\b\b\b\b\b\b\b\b\b\b\b\b\b\b\b\b\b\b\b\b\b\b\b\b\b\b\b\b\b\b\b\b\b\b\b\b\b\b\b\b\b\b\b\b\b\b\b\b\b\b\b\b\b\b\b\b\b\b\b\b\b\b\b\b\b\b\b\b\b\b\b\b\b\b\b\b\b\b\b\b\b\b\b\b\b\b\b\b\b\b\b\b\b\b\b\b\b\b\b\b\b\b\b\b\b\b\b\b\b\b\b\b\b\b\b\b\b\b\b\b\b\b\b\b\b\b\b\b\b\b\b\b\b\b\b\b\b\b\b\b\b\b\b\b\b\b\b\b\b\b"
     ]
    },
    {
     "name": "stderr",
     "output_type": "stream",
     "text": [
      "\n",
      "KeyboardInterrupt\n",
      "\n"
     ]
    }
   ],
   "source": [
    "EPOCHS = 30\n",
    "es = EarlyStopping(\n",
    "    monitor='val_accuracy', \n",
    "    mode='max',\n",
    "    patience=6\n",
    ")\n",
    "\n",
    "history = model.fit_generator(\n",
    "    train_generator,\n",
    "    steps_per_epoch = 193,\n",
    "    epochs=EPOCHS,\n",
    "    validation_data=validation_generator,\n",
    "    validation_steps=50,\n",
    "    callbacks=[es],\n",
    ")\n",
    "#model.save('braintumor.h5')\n",
    "pickle.dump(model,open('model.pkl','wb'))"
   ]
  },
  {
   "cell_type": "code",
   "execution_count": null,
   "metadata": {
    "_kg_hide-input": true,
    "colab": {
     "base_uri": "https://localhost:8080/",
     "height": 369
    },
    "executionInfo": {
     "elapsed": 1607,
     "status": "ok",
     "timestamp": 1618469014557,
     "user": {
      "displayName": "Abhishek Sharma",
      "photoUrl": "https://lh3.googleusercontent.com/a-/AOh14GiRKfpd_A0MUIPBHRzyZRyDVtlOCQyVXLETmIQVSA=s64",
      "userId": "15158990279670167313"
     },
     "user_tz": -330
    },
    "id": "1PWV6CTU-8r1",
    "outputId": "7e3ef257-8664-4e39-9bf5-90f18c4e2387"
   },
   "outputs": [],
   "source": [
    "# plot model performance\n",
    "acc = history.history['accuracy']\n",
    "val_acc = history.history['val_accuracy']\n",
    "loss = history.history['loss']\n",
    "val_loss = history.history['val_loss']\n",
    "epochs_range = range(1, len(history.epoch) + 1)\n",
    "\n",
    "plt.figure(figsize=(15,5))\n",
    "\n",
    "plt.subplot(1, 2, 1)\n",
    "plt.plot(epochs_range, acc, label='Train Set')\n",
    "plt.plot(epochs_range, val_acc, label='Val Set')\n",
    "plt.legend(loc=\"best\")\n",
    "plt.xlabel('Epochs')\n",
    "plt.ylabel('Accuracy')\n",
    "plt.title('Model Accuracy')\n",
    "\n",
    "plt.subplot(1, 2, 2)\n",
    "plt.plot(epochs_range, loss, label='Train Set')\n",
    "plt.plot(epochs_range, val_loss, label='Val Set')\n",
    "plt.legend(loc=\"best\")\n",
    "plt.xlabel('Epochs')\n",
    "plt.ylabel('Loss')\n",
    "plt.title('Model Loss')\n",
    "\n",
    "plt.tight_layout()\n",
    "plt.show()"
   ]
  },
  {
   "cell_type": "code",
   "execution_count": null,
   "metadata": {
    "colab": {
     "base_uri": "https://localhost:8080/",
     "height": 459
    },
    "executionInfo": {
     "elapsed": 12473,
     "status": "ok",
     "timestamp": 1618469047509,
     "user": {
      "displayName": "Abhishek Sharma",
      "photoUrl": "https://lh3.googleusercontent.com/a-/AOh14GiRKfpd_A0MUIPBHRzyZRyDVtlOCQyVXLETmIQVSA=s64",
      "userId": "15158990279670167313"
     },
     "user_tz": -330
    },
    "id": "4eJrkDQ0-8r1",
    "outputId": "458569ab-b36e-49d7-c6e1-1383590cb057"
   },
   "outputs": [],
   "source": [
    "# validate on val set\n",
    "predictions = model.predict(X_val_prep)\n",
    "predictions = [1 if x>0.5 else 0 for x in predictions]\n",
    "\n",
    "accuracy = accuracy_score(y_val, predictions)\n",
    "print('Val Accuracy = %.2f' % accuracy)\n",
    "\n",
    "confusion_mtx = confusion_matrix(y_val, predictions) \n",
    "cm = plot_confusion_matrix(confusion_mtx, classes = [0,1], normalize=False)"
   ]
  },
  {
   "cell_type": "code",
   "execution_count": null,
   "metadata": {
    "colab": {
     "base_uri": "https://localhost:8080/",
     "height": 459
    },
    "executionInfo": {
     "elapsed": 4400,
     "status": "ok",
     "timestamp": 1618469070140,
     "user": {
      "displayName": "Abhishek Sharma",
      "photoUrl": "https://lh3.googleusercontent.com/a-/AOh14GiRKfpd_A0MUIPBHRzyZRyDVtlOCQyVXLETmIQVSA=s64",
      "userId": "15158990279670167313"
     },
     "user_tz": -330
    },
    "id": "1_hP-i-S-8r2",
    "outputId": "8373e769-6090-44d9-a0e1-562836ab95a9"
   },
   "outputs": [],
   "source": [
    "# validate on test set\n",
    "predictions = model.predict(X_test_prep)\n",
    "predictions = [1 if x>0.5 else 0 for x in predictions]\n",
    "\n",
    "accuracy = accuracy_score(y_test, predictions)\n",
    "print('Test Accuracy = %.2f' % accuracy)\n",
    "\n",
    "confusion_mtx = confusion_matrix(y_test, predictions) \n",
    "cm = plot_confusion_matrix(confusion_mtx, classes = [0,1], normalize=False)"
   ]
  },
  {
   "cell_type": "markdown",
   "metadata": {
    "id": "Ehbw_fbJ-8r2"
   },
   "source": [
    "Now let's take a look at the images from the `test set` that were misclassified:"
   ]
  },
  {
   "cell_type": "code",
   "execution_count": null,
   "metadata": {
    "_kg_hide-input": true,
    "colab": {
     "base_uri": "https://localhost:8080/",
     "height": 815
    },
    "executionInfo": {
     "elapsed": 2365,
     "status": "ok",
     "timestamp": 1618469081845,
     "user": {
      "displayName": "Abhishek Sharma",
      "photoUrl": "https://lh3.googleusercontent.com/a-/AOh14GiRKfpd_A0MUIPBHRzyZRyDVtlOCQyVXLETmIQVSA=s64",
      "userId": "15158990279670167313"
     },
     "user_tz": -330
    },
    "id": "OJ9xdJt5-8r2",
    "outputId": "b2a3e48e-3705-42c0-ca12-e3e13a775c93"
   },
   "outputs": [],
   "source": [
    "ind_list = np.argwhere((y_test == predictions) == False)[:, -1]\n",
    "if ind_list.size == 0:\n",
    "    print('There are no missclassified images.')\n",
    "else:\n",
    "    for i in ind_list:\n",
    "        plt.figure()\n",
    "        plt.imshow(X_test_crop[i])\n",
    "        plt.xticks([])\n",
    "        plt.yticks([])\n",
    "        plt.title(f'Actual class: {y_val[i]}\\nPredicted class: {predictions[i]}')\n",
    "        plt.show()"
   ]
  },
  {
   "cell_type": "markdown",
   "metadata": {
    "id": "FNxIpZkc-8r3"
   },
   "source": [
    "# <a id='concl'>5. Conclusions</a>\n",
    "\n",
    "This project was a combination of CNN model classification problem (to predict wheter the subject has brain tumor or not) & Computer Vision problem (to automate the process of brain cropping from MRI scans). The final accuracy is much higher than 50% baseline (random guess). However, it could be increased by larger number of train images or through model hyperparameters tuning."
   ]
  },
  {
   "cell_type": "code",
   "execution_count": null,
   "metadata": {
    "colab": {
     "base_uri": "https://localhost:8080/",
     "height": 239
    },
    "executionInfo": {
     "elapsed": 2195,
     "status": "ok",
     "timestamp": 1618814279728,
     "user": {
      "displayName": "Abhishek Sharma",
      "photoUrl": "https://lh3.googleusercontent.com/a-/AOh14GiRKfpd_A0MUIPBHRzyZRyDVtlOCQyVXLETmIQVSA=s64",
      "userId": "15158990279670167313"
     },
     "user_tz": -330
    },
    "id": "jTj1P2G4egxj",
    "outputId": "e4de9131-c4e4-4daf-9672-be247e821b4d"
   },
   "outputs": [],
   "source": [
    "IMG_SIZE = (224,224)\n",
    "\n",
    "# live test\n",
    "\n",
    "model = load_model('braintumor.h5')\n",
    "testimgpath = 'brain_tumor_dataset/no/42 no.jpg'\n",
    "\n",
    "def preprocess_imgs(set_name, img_size):\n",
    "    \"\"\"\n",
    "    Resize and apply VGG-15 preprocessing\n",
    "    \"\"\"\n",
    "    set_new = []\n",
    "    for img in set_name:\n",
    "        img = cv2.resize(img,dsize=img_size,interpolation=cv2.INTER_CUBIC)\n",
    "        set_new.append(preprocess_input(img))\n",
    "    return np.array(set_new)\n",
    "\n",
    "\n",
    "\n",
    "def crop_imgs(set_name, add_pixels_value=0):\n",
    "    \"\"\"\n",
    "    Finds the extreme points on the image and crops the rectangular out of them\n",
    "    \"\"\"\n",
    "    set_new = []\n",
    "    for img in set_name:\n",
    "        gray = cv2.cvtColor(img, cv2.COLOR_RGB2GRAY)\n",
    "        gray = cv2.GaussianBlur(gray, (5, 5), 0)\n",
    "\n",
    "        # threshold the image, then perform a series of erosions +\n",
    "        # dilations to remove any small regions of noise\n",
    "        thresh = cv2.threshold(gray, 45, 255, cv2.THRESH_BINARY)[1]\n",
    "        thresh = cv2.erode(thresh, None, iterations=2)\n",
    "        thresh = cv2.dilate(thresh, None, iterations=2)\n",
    "\n",
    "        # find contours in thresholded image, then grab the largest one\n",
    "        cnts = cv2.findContours(thresh.copy(), cv2.RETR_EXTERNAL, cv2.CHAIN_APPROX_SIMPLE)\n",
    "        cnts = imutils.grab_contours(cnts)\n",
    "        c = max(cnts, key=cv2.contourArea)\n",
    "\n",
    "        # find the extreme points\n",
    "        extLeft = tuple(c[c[:, :, 0].argmin()][0])\n",
    "        extRight = tuple(c[c[:, :, 0].argmax()][0])\n",
    "        extTop = tuple(c[c[:, :, 1].argmin()][0])\n",
    "        extBot = tuple(c[c[:, :, 1].argmax()][0])\n",
    "\n",
    "        ADD_PIXELS = add_pixels_value\n",
    "        new_img = img[extTop[1]-ADD_PIXELS:extBot[1]+ADD_PIXELS, extLeft[0]-ADD_PIXELS:extRight[0]+ADD_PIXELS].copy()\n",
    "        set_new.append(new_img)\n",
    "\n",
    "    return np.array(set_new)\n",
    "\n",
    "\n",
    "#read\n",
    "plt.subplot(121)\n",
    "test_img = cv2.imread(testimgpath)\n",
    "plt.imshow(test_img)\n",
    "\n",
    "#resize\n",
    "# plt.subplot(132)\n",
    "# test_img = cv2.resize(test_img,dsize=IMG_SIZE,interpolation=cv2.INTER_CUBIC)\n",
    "# plt.imshow(test_img)\n",
    "\n",
    "#crop and resize and preprocess for vgg\n",
    "plt.subplot(122)\n",
    "test_img = crop_imgs([test_img])\n",
    "test_img = test_img.reshape(test_img.shape[1:])\n",
    "test_img = preprocess_imgs([test_img],IMG_SIZE)\n",
    "plt.imshow(test_img.reshape(test_img.shape[1:]))\n",
    "\n",
    "#make prediction\n",
    "pred = model.predict(test_img)\n",
    "if pred<0.5:\n",
    "  print('No Tumor')\n",
    "else:\n",
    "  print('Brain is having the tumor')"
   ]
  },
  {
   "cell_type": "code",
   "execution_count": null,
   "metadata": {
    "id": "XyRUPu_kTb88"
   },
   "outputs": [],
   "source": []
  }
 ],
 "metadata": {
  "accelerator": "GPU",
  "colab": {
   "collapsed_sections": [],
   "name": "brain-tumor-detection-v1-0-cnn-vgg-16.ipynb",
   "provenance": []
  },
  "kernelspec": {
   "display_name": "Python 3 (ipykernel)",
   "language": "python",
   "name": "python3"
  },
  "language_info": {
   "codemirror_mode": {
    "name": "ipython",
    "version": 3
   },
   "file_extension": ".py",
   "mimetype": "text/x-python",
   "name": "python",
   "nbconvert_exporter": "python",
   "pygments_lexer": "ipython3",
   "version": "3.9.6"
  }
 },
 "nbformat": 4,
 "nbformat_minor": 1
}